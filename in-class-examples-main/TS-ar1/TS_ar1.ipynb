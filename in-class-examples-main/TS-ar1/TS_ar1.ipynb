{
 "cells": [
  {
   "cell_type": "markdown",
   "metadata": {},
   "source": [
    "## Introduction\n",
    "\n",
    "This in-class example demonstrates how to handle time trend, seasonality, and autoregressive processes.\n",
    "\n",
    "What you need to know:\n",
    "- Statsmodels and pandas modules in Python\n",
    "- Theoretical concepts on time series regression model\n",
    "\n",
    "The list of references for detailed concepts and techniques used in this exerise.\n"
   ]
  },
  {
   "cell_type": "markdown",
   "metadata": {},
   "source": [
    "***\n",
    "## Data Description\n",
    "\n",
    "The data set is contained in a comma-separated value (csv) file named ```CDN_hprice.csv``` with column headers. \n",
    "\n",
    "The data is a set of quarterly observations on a housing price index and other relevant variables in Canada for 1976 through 2019.\n",
    "\n",
    "This data set is obtained from [Federal Reserve Bank of Dallas's International House Price Database](https://www.dallasfed.org/institute/houseprice).\n",
    "\n",
    "Description of the data is as follow:\n",
    "\n",
    "| Variable name | Variable description |\n",
    "| -- | ----------- |\n",
    "| Year      | Year |\n",
    "| Quarter   | Quarter |\n",
    "| RHPI      | House Price Index (real) |\n",
    "| RPDI      | Personal disposable income (real) |\n",
    "| logRHPI   | log(RHPI)   |\n",
    "| logRPDI   | log(RPDI)   |\n",
    "| UE        | Unemployment rate (in percentage points) |\n",
    "| CPI       | Consumer Price Index |\n",
    "| TB10_rt   | 10-year treasury bond rate (nominal) |\n",
    "| RTB10_rt  | 10-year Treasury Bond rate (real) |\n"
   ]
  },
  {
   "cell_type": "markdown",
   "metadata": {},
   "source": [
    "***\n",
    "## Load the required modules"
   ]
  },
  {
   "cell_type": "code",
   "execution_count": null,
   "metadata": {},
   "outputs": [],
   "source": [
    "import numpy as np\n",
    "import pandas as pd\n",
    "import statsmodels\n",
    "import statsmodels.api as sm\n",
    "import statsmodels.formula.api as smf\n",
    "import matplotlib.pyplot"
   ]
  },
  {
   "cell_type": "markdown",
   "metadata": {},
   "source": [
    "***\n",
    "## Import the data set\n",
    "\n",
    "#### Load the data set into Python"
   ]
  },
  {
   "cell_type": "code",
   "execution_count": null,
   "metadata": {},
   "outputs": [],
   "source": []
  },
  {
   "cell_type": "markdown",
   "metadata": {},
   "source": [
    "***\n",
    "## Data preparation\n",
    "\n",
    "#### 1.1 Sort the data in ascending order by year and quarter"
   ]
  },
  {
   "cell_type": "code",
   "execution_count": null,
   "metadata": {},
   "outputs": [],
   "source": []
  },
  {
   "cell_type": "markdown",
   "metadata": {},
   "source": [
    "#### 1.2 Generate time index\n",
    "\n",
    "Create new variable ```t``` such that $t=0$ in the first period. \n",
    "\n",
    "Note that we have repeated year and quarters. You can create the the required index by:\n",
    "1. Sorting the observations in ascending order, as you are asked to do in (1.1)\n",
    "2. Add a new column using the ```df.index``` method, where ```df``` is the name of the pandas dataframe"
   ]
  },
  {
   "cell_type": "code",
   "execution_count": null,
   "metadata": {},
   "outputs": [],
   "source": []
  },
  {
   "cell_type": "markdown",
   "metadata": {},
   "source": [
    "#### 1.3 Generate lag variable\n",
    "\n",
    "Here we create lag variables with a lag of **4** period. That is, in quarterly frequency, the lag variable is in the *same* quarter but *different* year.\n",
    "\n",
    "Create a new column in the date set named ```logRHPI_4```, such that $\\text{logRHPI}\\_4 = \\log(\\textit{RHPI}_{t-4})$ "
   ]
  },
  {
   "cell_type": "code",
   "execution_count": null,
   "metadata": {},
   "outputs": [],
   "source": []
  },
  {
   "cell_type": "markdown",
   "metadata": {},
   "source": [
    "Create a new column in the date set named ```logRPDI_4```, such that $\\text{logRPDI}\\_4 = \\log(\\textit{RPDI}_{t-4})$ "
   ]
  },
  {
   "cell_type": "code",
   "execution_count": null,
   "metadata": {},
   "outputs": [],
   "source": []
  },
  {
   "cell_type": "markdown",
   "metadata": {},
   "source": [
    "#### 1.4 Generate \"*first-differencing*\" variables\n",
    "\n",
    "It is also known as the year-over-year difference, because we take the difference between now and 4 quarters (a year) ago. \n",
    "\n",
    "E.g. we are calulating the change from 2018 Q1 to 2019 Q1. \n",
    "\n",
    "Create a new column named ```gRHPI```, such that $\\text{gRHPI} = \\Delta \\log(\\textit{RHPI}_t) = \\log(\\textit{RHPI}_t) - \\log(\\textit{RHPI}_{t-4})$"
   ]
  },
  {
   "cell_type": "code",
   "execution_count": null,
   "metadata": {},
   "outputs": [],
   "source": []
  },
  {
   "cell_type": "markdown",
   "metadata": {},
   "source": [
    "#### 1.5 Plot the time series for log(RHPI) and growth rate of RHPI"
   ]
  },
  {
   "cell_type": "code",
   "execution_count": null,
   "metadata": {},
   "outputs": [],
   "source": []
  },
  {
   "cell_type": "code",
   "execution_count": null,
   "metadata": {},
   "outputs": [],
   "source": []
  },
  {
   "cell_type": "markdown",
   "metadata": {},
   "source": [
    "***\n",
    "## Time trend and seasonality\n",
    "\n",
    "Consider the following model for house price growth:\n",
    "$$\\log(\\textit{RHPI}_t) = \\beta_0 + \\beta_1 t + \\delta_1 Q2 + \\delta_2 Q3 + \\delta_3 Q4 + u_t$$\n",
    "\n",
    "- $t = 0, 1, 2, \\ldots$ is the time index you created in (1.2)\n",
    "- Q2, Q3, Q4 are dummy variables that equals to 1 in the second, third, and fourth quarter, respectively. Otherwise, they are equal to 0. "
   ]
  },
  {
   "cell_type": "markdown",
   "metadata": {},
   "source": [
    "#### 2.1 Estimate the model"
   ]
  },
  {
   "cell_type": "code",
   "execution_count": null,
   "metadata": {},
   "outputs": [],
   "source": []
  },
  {
   "cell_type": "markdown",
   "metadata": {},
   "source": [
    "#### 2.2 Get the estimation results"
   ]
  },
  {
   "cell_type": "code",
   "execution_count": null,
   "metadata": {},
   "outputs": [],
   "source": []
  },
  {
   "cell_type": "markdown",
   "metadata": {},
   "source": [
    "#### 2.3 What is the benchmark (base period) in this model?"
   ]
  },
  {
   "cell_type": "markdown",
   "metadata": {},
   "source": []
  },
  {
   "cell_type": "markdown",
   "metadata": {},
   "source": [
    "#### 2.4 At 5% significance level, is there a statistically significant time trend?"
   ]
  },
  {
   "cell_type": "markdown",
   "metadata": {},
   "source": []
  },
  {
   "cell_type": "markdown",
   "metadata": {},
   "source": [
    "#### 2.5 At 5% significance level, would you conclude that house price growth exhibits seasonality at quarterly frequency?"
   ]
  },
  {
   "cell_type": "markdown",
   "metadata": {},
   "source": []
  },
  {
   "cell_type": "markdown",
   "metadata": {},
   "source": [
    "***\n",
    "## Autoregressive process of order 1\n",
    "\n",
    "Consider a house price model with AR(1) specification:\n",
    "$$\\log(\\textit{RHPI}_t) = \\beta_0 + \\beta_1 t + \\beta_2 \\log(\\textit{RHPI}_{t-4}) + \\delta_1 Q2 + \\delta_2 Q3 + \\delta_3 Q4 + u_t$$"
   ]
  },
  {
   "cell_type": "markdown",
   "metadata": {},
   "source": [
    "#### 3.1 Estimate the model"
   ]
  },
  {
   "cell_type": "code",
   "execution_count": null,
   "metadata": {},
   "outputs": [],
   "source": []
  },
  {
   "cell_type": "markdown",
   "metadata": {},
   "source": [
    "#### 3.2 Get the estimation results"
   ]
  },
  {
   "cell_type": "code",
   "execution_count": null,
   "metadata": {},
   "outputs": [],
   "source": []
  },
  {
   "cell_type": "markdown",
   "metadata": {},
   "source": [
    "#### 3.3 At 5% significance level, what would you conclude about $\\beta_2$?"
   ]
  },
  {
   "cell_type": "markdown",
   "metadata": {},
   "source": []
  },
  {
   "cell_type": "markdown",
   "metadata": {},
   "source": [
    "#### 3.4 Does the AR(1) process have weak dependence?"
   ]
  },
  {
   "cell_type": "markdown",
   "metadata": {},
   "source": []
  },
  {
   "cell_type": "markdown",
   "metadata": {},
   "source": [
    "#### 3.5 Is the time trend still significant? Why or why not?"
   ]
  },
  {
   "cell_type": "markdown",
   "metadata": {},
   "source": []
  },
  {
   "cell_type": "markdown",
   "metadata": {},
   "source": [
    "***\n",
    "## Complete model\n",
    "\n",
    "Consider a house price model with AR(1) specification and other exogenous regressors:\n",
    "$$\\log(\\textit{RHPI}_t) = \\beta_0 + \\beta_1 t + \\beta_2 \\log(\\textit{RHPI}_{t-4}) + \\beta_3 \\textit{UE}_t + \\beta_4 \\log(\\textit{RPDI}_t) + \\delta_1 Q2 + \\delta_2 Q3 + \\delta_3 Q4 + u_t$$"
   ]
  },
  {
   "cell_type": "markdown",
   "metadata": {},
   "source": [
    "#### 4.1 Estimate the model"
   ]
  },
  {
   "cell_type": "code",
   "execution_count": null,
   "metadata": {},
   "outputs": [],
   "source": []
  },
  {
   "cell_type": "markdown",
   "metadata": {},
   "source": [
    "#### 4.2 Get the estimation results"
   ]
  },
  {
   "cell_type": "code",
   "execution_count": null,
   "metadata": {},
   "outputs": [],
   "source": []
  },
  {
   "cell_type": "markdown",
   "metadata": {},
   "source": [
    "#### 4.3 How would you interpret $\\beta_3$? (Be careful on how unemployment rate is reported in the data set)"
   ]
  },
  {
   "cell_type": "markdown",
   "metadata": {},
   "source": []
  },
  {
   "cell_type": "markdown",
   "metadata": {},
   "source": [
    "#### 4.4 At 5% significance level, what would you conclude about $\\beta_3$?"
   ]
  },
  {
   "cell_type": "markdown",
   "metadata": {},
   "source": []
  },
  {
   "cell_type": "markdown",
   "metadata": {},
   "source": [
    "#### 4.5 Explain why the AR(1) dependence ($\\beta_2$) is weakened, when compare with your results in Question 3."
   ]
  },
  {
   "cell_type": "markdown",
   "metadata": {},
   "source": []
  },
  {
   "cell_type": "markdown",
   "metadata": {},
   "source": [
    "***\n",
    "## References\n",
    "- Jeffrey M. Wooldridge (2012). \"Introductory Econometrics: A Modern Approach, 5e\" Chapter 11.\n",
    "    \n",
    "- Seabold, Skipper, and Josef Perktold (2010). \"[statsmodels: Econometric and statistical modeling with python](https://www.statsmodels.org/stable/examples/notebooks/generated/ols.html).\" Proceedings of the 9th Python in Science Conference."
   ]
  }
 ],
 "metadata": {
  "kernelspec": {
   "display_name": "Python 3",
   "language": "python",
   "name": "python3"
  },
  "language_info": {
   "codemirror_mode": {
    "name": "ipython",
    "version": 3
   },
   "file_extension": ".py",
   "mimetype": "text/x-python",
   "name": "python",
   "nbconvert_exporter": "python",
   "pygments_lexer": "ipython3",
   "version": "3.8.5"
  }
 },
 "nbformat": 4,
 "nbformat_minor": 4
}
