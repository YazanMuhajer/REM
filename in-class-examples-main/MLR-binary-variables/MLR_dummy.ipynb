{
 "cells": [
  {
   "cell_type": "markdown",
   "metadata": {},
   "source": [
    "## Introduction\n",
    "\n",
    "This in-class example demonstrates how to incorporate qualitative explanatory variables into a multiple linear regression model. It covers most all of the popular ways that binary (dummy) variables are included in a regression model.\n",
    "\n",
    "What you need to know:  \n",
    "- Pandas, Statsmodels modules\n",
    "- Theoretical concepts on multiple linear regression model\n",
    "- How to create and work with binary (dummy) variables\n",
    "\n",
    "The list of [references](#References) for detailed concepts and techniques used in this exerise."
   ]
  },
  {
   "cell_type": "markdown",
   "metadata": {},
   "source": [
    "***\n",
    "\n",
    "## Data Description\n",
    "\n",
    "```\n",
    "-----------------------------------------------------------------------------------------------------------------------------\n",
    "              storage   display    value\n",
    "variable name   type    format     label      variable label\n",
    "-----------------------------------------------------------------------------------------------------------------------------\n",
    "wage            float   %8.2g                 average hourly earnings\n",
    "educ            byte    %8.0g                 years of education\n",
    "exper           byte    %8.0g                 years potential experience\n",
    "tenure          byte    %8.0g                 years with current employer\n",
    "nonwhite        byte    %8.0g                 =1 if nonwhite\n",
    "female          byte    %8.0g                 =1 if female\n",
    "married         byte    %8.0g                 =1 if married\n",
    "numdep          byte    %8.0g                 number of dependents\n",
    "smsa            byte    %8.0g                 =1 if live in SMSA\n",
    "northcen        byte    %8.0g                 =1 if live in north central U.S\n",
    "south           byte    %8.0g                 =1 if live in southern region\n",
    "west            byte    %8.0g                 =1 if live in western region\n",
    "construc        byte    %8.0g                 =1 if work in construc. indus.\n",
    "ndurman         byte    %8.0g                 =1 if in nondur. manuf. indus.\n",
    "trcommpu        byte    %8.0g                 =1 if in trans, commun, pub ut\n",
    "trade           byte    %8.0g                 =1 if in wholesale or retail\n",
    "services        byte    %8.0g                 =1 if in services indus.\n",
    "profserv        byte    %8.0g                 =1 if in prof. serv. indus.\n",
    "profocc         byte    %8.0g                 =1 if in profess. occupation\n",
    "clerocc         byte    %8.0g                 =1 if in clerical occupation\n",
    "servocc         byte    %8.0g                 =1 if in service occupation\n",
    "lwage           float   %9.0g                 log(wage)\n",
    "expersq         int     %9.0g                 exper^2\n",
    "tenursq         int     %9.0g                 tenure^2\n",
    "-----------------------------------------------------------------------------------------------------------------------------\n",
    " ```"
   ]
  },
  {
   "cell_type": "markdown",
   "metadata": {},
   "source": [
    "***\n",
    "## Load the required modules"
   ]
  },
  {
   "cell_type": "code",
   "execution_count": 1,
   "metadata": {},
   "outputs": [],
   "source": [
    "import math\n",
    "import numpy as np\n",
    "import pandas as pd\n",
    "import statsmodels\n",
    "import statsmodels.api as sm\n",
    "import statsmodels.formula.api as smf"
   ]
  },
  {
   "cell_type": "markdown",
   "metadata": {},
   "source": [
    "***\n",
    "## Load the data set\n",
    "The data set is contained in a comma-separated value (csv) file named \"*WAGE.csv*\" with column header. "
   ]
  },
  {
   "cell_type": "code",
   "execution_count": 2,
   "metadata": {},
   "outputs": [],
   "source": [
    "data = pd.read_csv(\"WAGE.csv\")"
   ]
  },
  {
   "cell_type": "markdown",
   "metadata": {},
   "source": [
    "#### Check if the data is properly imported"
   ]
  },
  {
   "cell_type": "code",
   "execution_count": 3,
   "metadata": {},
   "outputs": [
    {
     "data": {
      "text/html": [
       "<div>\n",
       "<style scoped>\n",
       "    .dataframe tbody tr th:only-of-type {\n",
       "        vertical-align: middle;\n",
       "    }\n",
       "\n",
       "    .dataframe tbody tr th {\n",
       "        vertical-align: top;\n",
       "    }\n",
       "\n",
       "    .dataframe thead th {\n",
       "        text-align: right;\n",
       "    }\n",
       "</style>\n",
       "<table border=\"1\" class=\"dataframe\">\n",
       "  <thead>\n",
       "    <tr style=\"text-align: right;\">\n",
       "      <th></th>\n",
       "      <th>wage</th>\n",
       "      <th>educ</th>\n",
       "      <th>exper</th>\n",
       "      <th>tenure</th>\n",
       "      <th>nonwhite</th>\n",
       "      <th>female</th>\n",
       "      <th>married</th>\n",
       "      <th>numdep</th>\n",
       "      <th>smsa</th>\n",
       "      <th>northcen</th>\n",
       "      <th>...</th>\n",
       "      <th>trcommpu</th>\n",
       "      <th>trade</th>\n",
       "      <th>services</th>\n",
       "      <th>profserv</th>\n",
       "      <th>profocc</th>\n",
       "      <th>clerocc</th>\n",
       "      <th>servocc</th>\n",
       "      <th>lwage</th>\n",
       "      <th>expersq</th>\n",
       "      <th>tenursq</th>\n",
       "    </tr>\n",
       "  </thead>\n",
       "  <tbody>\n",
       "    <tr>\n",
       "      <th>0</th>\n",
       "      <td>3.10</td>\n",
       "      <td>11</td>\n",
       "      <td>2</td>\n",
       "      <td>0</td>\n",
       "      <td>0</td>\n",
       "      <td>1</td>\n",
       "      <td>0</td>\n",
       "      <td>2</td>\n",
       "      <td>1</td>\n",
       "      <td>0</td>\n",
       "      <td>...</td>\n",
       "      <td>0</td>\n",
       "      <td>0</td>\n",
       "      <td>0</td>\n",
       "      <td>0</td>\n",
       "      <td>0</td>\n",
       "      <td>0</td>\n",
       "      <td>0</td>\n",
       "      <td>1.131402</td>\n",
       "      <td>4</td>\n",
       "      <td>0</td>\n",
       "    </tr>\n",
       "    <tr>\n",
       "      <th>1</th>\n",
       "      <td>3.24</td>\n",
       "      <td>12</td>\n",
       "      <td>22</td>\n",
       "      <td>2</td>\n",
       "      <td>0</td>\n",
       "      <td>1</td>\n",
       "      <td>1</td>\n",
       "      <td>3</td>\n",
       "      <td>1</td>\n",
       "      <td>0</td>\n",
       "      <td>...</td>\n",
       "      <td>0</td>\n",
       "      <td>0</td>\n",
       "      <td>1</td>\n",
       "      <td>0</td>\n",
       "      <td>0</td>\n",
       "      <td>0</td>\n",
       "      <td>1</td>\n",
       "      <td>1.175573</td>\n",
       "      <td>484</td>\n",
       "      <td>4</td>\n",
       "    </tr>\n",
       "    <tr>\n",
       "      <th>2</th>\n",
       "      <td>3.00</td>\n",
       "      <td>11</td>\n",
       "      <td>2</td>\n",
       "      <td>0</td>\n",
       "      <td>0</td>\n",
       "      <td>0</td>\n",
       "      <td>0</td>\n",
       "      <td>2</td>\n",
       "      <td>0</td>\n",
       "      <td>0</td>\n",
       "      <td>...</td>\n",
       "      <td>0</td>\n",
       "      <td>1</td>\n",
       "      <td>0</td>\n",
       "      <td>0</td>\n",
       "      <td>0</td>\n",
       "      <td>0</td>\n",
       "      <td>0</td>\n",
       "      <td>1.098612</td>\n",
       "      <td>4</td>\n",
       "      <td>0</td>\n",
       "    </tr>\n",
       "    <tr>\n",
       "      <th>3</th>\n",
       "      <td>6.00</td>\n",
       "      <td>8</td>\n",
       "      <td>44</td>\n",
       "      <td>28</td>\n",
       "      <td>0</td>\n",
       "      <td>0</td>\n",
       "      <td>1</td>\n",
       "      <td>0</td>\n",
       "      <td>1</td>\n",
       "      <td>0</td>\n",
       "      <td>...</td>\n",
       "      <td>0</td>\n",
       "      <td>0</td>\n",
       "      <td>0</td>\n",
       "      <td>0</td>\n",
       "      <td>0</td>\n",
       "      <td>1</td>\n",
       "      <td>0</td>\n",
       "      <td>1.791760</td>\n",
       "      <td>1936</td>\n",
       "      <td>784</td>\n",
       "    </tr>\n",
       "    <tr>\n",
       "      <th>4</th>\n",
       "      <td>5.30</td>\n",
       "      <td>12</td>\n",
       "      <td>7</td>\n",
       "      <td>2</td>\n",
       "      <td>0</td>\n",
       "      <td>0</td>\n",
       "      <td>1</td>\n",
       "      <td>1</td>\n",
       "      <td>0</td>\n",
       "      <td>0</td>\n",
       "      <td>...</td>\n",
       "      <td>0</td>\n",
       "      <td>0</td>\n",
       "      <td>0</td>\n",
       "      <td>0</td>\n",
       "      <td>0</td>\n",
       "      <td>0</td>\n",
       "      <td>0</td>\n",
       "      <td>1.667707</td>\n",
       "      <td>49</td>\n",
       "      <td>4</td>\n",
       "    </tr>\n",
       "  </tbody>\n",
       "</table>\n",
       "<p>5 rows × 24 columns</p>\n",
       "</div>"
      ],
      "text/plain": [
       "   wage  educ  exper  tenure  nonwhite  female  married  numdep  smsa  \\\n",
       "0  3.10    11      2       0         0       1        0       2     1   \n",
       "1  3.24    12     22       2         0       1        1       3     1   \n",
       "2  3.00    11      2       0         0       0        0       2     0   \n",
       "3  6.00     8     44      28         0       0        1       0     1   \n",
       "4  5.30    12      7       2         0       0        1       1     0   \n",
       "\n",
       "   northcen  ...  trcommpu  trade  services  profserv  profocc  clerocc  \\\n",
       "0         0  ...         0      0         0         0        0        0   \n",
       "1         0  ...         0      0         1         0        0        0   \n",
       "2         0  ...         0      1         0         0        0        0   \n",
       "3         0  ...         0      0         0         0        0        1   \n",
       "4         0  ...         0      0         0         0        0        0   \n",
       "\n",
       "   servocc     lwage  expersq  tenursq  \n",
       "0        0  1.131402        4        0  \n",
       "1        1  1.175573      484        4  \n",
       "2        0  1.098612        4        0  \n",
       "3        0  1.791760     1936      784  \n",
       "4        0  1.667707       49        4  \n",
       "\n",
       "[5 rows x 24 columns]"
      ]
     },
     "execution_count": 3,
     "metadata": {},
     "output_type": "execute_result"
    }
   ],
   "source": [
    "data.head()"
   ]
  },
  {
   "cell_type": "markdown",
   "metadata": {},
   "source": [
    "Summary statistics for women:"
   ]
  },
  {
   "cell_type": "code",
   "execution_count": 8,
   "metadata": {},
   "outputs": [
    {
     "name": "stdout",
     "output_type": "stream",
     "text": [
      "             wage        educ       exper      tenure\n",
      "count  252.000000  252.000000  252.000000  252.000000\n",
      "mean     4.587659   12.317460   16.428571    3.615079\n",
      "std      2.529363    2.472642   13.652738    5.357968\n",
      "min      0.530000    0.000000    1.000000    0.000000\n",
      "25%      3.000000   12.000000    5.000000    0.000000\n",
      "50%      3.750000   12.000000   13.000000    2.000000\n",
      "75%      5.510000   13.000000   26.000000    4.000000\n",
      "max     21.629999   18.000000   50.000000   34.000000\n"
     ]
    }
   ],
   "source": [
    "print(data.query(\"female == 1\")[[\"wage\",\"educ\",\"exper\",\"tenure\"]].describe())"
   ]
  },
  {
   "cell_type": "markdown",
   "metadata": {},
   "source": [
    "Summary statistics for men:"
   ]
  },
  {
   "cell_type": "code",
   "execution_count": 9,
   "metadata": {},
   "outputs": [
    {
     "name": "stdout",
     "output_type": "stream",
     "text": [
      "             wage        educ       exper      tenure\n",
      "count  274.000000  274.000000  274.000000  274.000000\n",
      "mean     7.099489   12.788321   17.558394    6.474453\n",
      "std      4.160858    3.002882   13.499907    8.369297\n",
      "min      1.500000    2.000000    1.000000    0.000000\n",
      "25%      4.142500   12.000000    6.000000    0.000000\n",
      "50%      6.000000   12.000000   14.000000    3.000000\n",
      "75%      8.765000   15.000000   28.000000    9.000000\n",
      "max     24.980000   18.000000   51.000000   44.000000\n"
     ]
    }
   ],
   "source": [
    "print(data.query(\"female == 0\")[[\"wage\",\"educ\",\"exper\",\"tenure\"]].describe())"
   ]
  },
  {
   "cell_type": "markdown",
   "metadata": {},
   "source": [
    "***\n",
    "## Single dummy independent variable"
   ]
  },
  {
   "cell_type": "markdown",
   "metadata": {},
   "source": [
    "Estimate the model \n",
    "$$wage = \\beta_0 + \\delta_0 female + \\beta_1 educ + \\beta_2 exper + \\beta_3 tenure + u.$$"
   ]
  },
  {
   "cell_type": "code",
   "execution_count": 10,
   "metadata": {},
   "outputs": [
    {
     "name": "stdout",
     "output_type": "stream",
     "text": [
      "                            OLS Regression Results                            \n",
      "==============================================================================\n",
      "Dep. Variable:                   wage   R-squared:                       0.364\n",
      "Model:                            OLS   Adj. R-squared:                  0.359\n",
      "Method:                 Least Squares   F-statistic:                     74.40\n",
      "Date:                Tue, 20 Oct 2020   Prob (F-statistic):           7.30e-50\n",
      "Time:                        11:15:21   Log-Likelihood:                -1314.2\n",
      "No. Observations:                 526   AIC:                             2638.\n",
      "Df Residuals:                     521   BIC:                             2660.\n",
      "Df Model:                           4                                         \n",
      "Covariance Type:            nonrobust                                         \n",
      "==============================================================================\n",
      "                 coef    std err          t      P>|t|      [0.025      0.975]\n",
      "------------------------------------------------------------------------------\n",
      "Intercept     -1.5679      0.725     -2.164      0.031      -2.991      -0.145\n",
      "female        -1.8109      0.265     -6.838      0.000      -2.331      -1.291\n",
      "educ           0.5715      0.049     11.584      0.000       0.475       0.668\n",
      "exper          0.0254      0.012      2.195      0.029       0.003       0.048\n",
      "tenure         0.1410      0.021      6.663      0.000       0.099       0.183\n",
      "==============================================================================\n",
      "Omnibus:                      185.864   Durbin-Watson:                   1.794\n",
      "Prob(Omnibus):                  0.000   Jarque-Bera (JB):              715.580\n",
      "Skew:                           1.589   Prob(JB):                    4.11e-156\n",
      "Kurtosis:                       7.749   Cond. No.                         141.\n",
      "==============================================================================\n",
      "\n",
      "Notes:\n",
      "[1] Standard Errors assume that the covariance matrix of the errors is correctly specified.\n"
     ]
    }
   ],
   "source": [
    "model_eq = smf.ols(formula = \"wage ~ 1 + female + educ + exper + tenure\", data = data)\n",
    "model_est = model_eq.fit()\n",
    "print(model_est.summary())"
   ]
  },
  {
   "cell_type": "markdown",
   "metadata": {},
   "source": [
    "The average wage for women in the sample is:"
   ]
  },
  {
   "cell_type": "code",
   "execution_count": 11,
   "metadata": {},
   "outputs": [
    {
     "data": {
      "text/plain": [
       "-1.810852190194396"
      ]
     },
     "execution_count": 11,
     "metadata": {},
     "output_type": "execute_result"
    }
   ],
   "source": [
    "model_est.params[\"female\"]"
   ]
  },
  {
   "cell_type": "markdown",
   "metadata": {},
   "source": [
    "Since we have performed a multiple regression that controls for educ, exper, and tenure. The wage differential cannot be explained by\n",
    "different average levels of education, experience, or tenure between men and women. We can conclude that the differential of \\\\$1.81 is due to gender or factors associated with gender\n",
    "that we have not controlled for in the regression."
   ]
  },
  {
   "cell_type": "markdown",
   "metadata": {},
   "source": [
    "Consider a simpler model that all other explanatory variables are dropped from the equation:\n",
    "$$wage = \\beta_0 + \\delta_0 female + u$$\n",
    "\n",
    "The coefficients in this have a simple interpretation. The intercept $\\beta_0$ is the average wage for men in the sample, i.e. $female=0$.\n",
    "\n",
    "It provides a simple way to carry out a *comparison-of-means* test between the two groups, which in this case are men and women.\n",
    "\n",
    "Generally, simple regression on a constant and a dummy variable is a straightforward way to compare the means of two groups."
   ]
  },
  {
   "cell_type": "code",
   "execution_count": 12,
   "metadata": {},
   "outputs": [
    {
     "name": "stdout",
     "output_type": "stream",
     "text": [
      "                            OLS Regression Results                            \n",
      "==============================================================================\n",
      "Dep. Variable:                   wage   R-squared:                       0.116\n",
      "Model:                            OLS   Adj. R-squared:                  0.114\n",
      "Method:                 Least Squares   F-statistic:                     68.54\n",
      "Date:                Tue, 20 Oct 2020   Prob (F-statistic):           1.04e-15\n",
      "Time:                        11:20:53   Log-Likelihood:                -1400.7\n",
      "No. Observations:                 526   AIC:                             2805.\n",
      "Df Residuals:                     524   BIC:                             2814.\n",
      "Df Model:                           1                                         \n",
      "Covariance Type:            nonrobust                                         \n",
      "==============================================================================\n",
      "                 coef    std err          t      P>|t|      [0.025      0.975]\n",
      "------------------------------------------------------------------------------\n",
      "Intercept      7.0995      0.210     33.806      0.000       6.687       7.512\n",
      "female        -2.5118      0.303     -8.279      0.000      -3.108      -1.916\n",
      "==============================================================================\n",
      "Omnibus:                      223.488   Durbin-Watson:                   1.818\n",
      "Prob(Omnibus):                  0.000   Jarque-Bera (JB):              929.998\n",
      "Skew:                           1.928   Prob(JB):                    1.13e-202\n",
      "Kurtosis:                       8.250   Cond. No.                         2.57\n",
      "==============================================================================\n",
      "\n",
      "Notes:\n",
      "[1] Standard Errors assume that the covariance matrix of the errors is correctly specified.\n"
     ]
    }
   ],
   "source": [
    "model_eq = smf.ols(formula = \"wage ~ 1 + female\", data = data)\n",
    "model_est = model_eq.fit()\n",
    "print(model_est.summary())"
   ]
  },
  {
   "cell_type": "markdown",
   "metadata": {},
   "source": [
    "The average wage for women in the sample is:"
   ]
  },
  {
   "cell_type": "code",
   "execution_count": 13,
   "metadata": {},
   "outputs": [
    {
     "data": {
      "text/plain": [
       "4.587658736785713"
      ]
     },
     "execution_count": 13,
     "metadata": {},
     "output_type": "execute_result"
    }
   ],
   "source": [
    "model_est.params['Intercept'] + model_est.params['female']"
   ]
  },
  {
   "cell_type": "markdown",
   "metadata": {},
   "source": [
    "The estimated wage differential between men and women is larger because it does not control for differences in education, experience, and tenure,\n",
    "and these are lower, on average, for women than for men in this sample."
   ]
  },
  {
   "cell_type": "markdown",
   "metadata": {},
   "source": [
    "***\n",
    "## Using Dummy Variables for Multiple Categories"
   ]
  },
  {
   "cell_type": "markdown",
   "metadata": {},
   "source": [
    "Consider a model that allows for wage differences among four groups: married men, married women, single men, and single women. To do this, we select single men as our base group and define dummy variables for each of the remaining groups. Call these $marrmale$ (married men), $marrfem$ (married women), and $singfem$ (single women).\n",
    "\n",
    "The model is specified as:\n",
    "$$\\log(wage) = \\beta_0 + \\delta_0 marrmale + \\delta_1 marrfem + \\delta_2 singfem + \\beta_1 educ + \\beta_2 exper + \\beta_3 exper^2 + \\beta_4 tenure + \\beta_5 tenure^2 + u.$$\n",
    "\n",
    "There are multiple ways to generate new dummy variables. \n",
    "\n",
    "For the task at hand, we use Pandas ```get_dummies``` function to expand the variables into multiple dummies."
   ]
  },
  {
   "cell_type": "code",
   "execution_count": 16,
   "metadata": {},
   "outputs": [
    {
     "name": "stdout",
     "output_type": "stream",
     "text": [
      "   wage  educ  exper  tenure  nonwhite  numdep  smsa  northcen  south  west  \\\n",
      "0  3.10    11      2       0         0       2     1         0      0     1   \n",
      "1  3.24    12     22       2         0       3     1         0      0     1   \n",
      "2  3.00    11      2       0         0       2     0         0      0     1   \n",
      "3  6.00     8     44      28         0       0     1         0      0     1   \n",
      "4  5.30    12      7       2         0       1     0         0      0     1   \n",
      "\n",
      "   ...  profocc  clerocc  servocc     lwage  expersq  tenursq  female_0  \\\n",
      "0  ...        0        0        0  1.131402        4        0         0   \n",
      "1  ...        0        0        1  1.175573      484        4         0   \n",
      "2  ...        0        0        0  1.098612        4        0         1   \n",
      "3  ...        0        1        0  1.791760     1936      784         1   \n",
      "4  ...        0        0        0  1.667707       49        4         1   \n",
      "\n",
      "   female_1  married_0  married_1  \n",
      "0         1          1          0  \n",
      "1         1          0          1  \n",
      "2         0          1          0  \n",
      "3         0          0          1  \n",
      "4         0          0          1  \n",
      "\n",
      "[5 rows x 26 columns]\n"
     ]
    }
   ],
   "source": [
    "data_in = pd.get_dummies(data, columns=['female','married'])\n",
    "print(data_in.head())"
   ]
  },
  {
   "cell_type": "code",
   "execution_count": 17,
   "metadata": {},
   "outputs": [
    {
     "name": "stdout",
     "output_type": "stream",
     "text": [
      "   wage  educ  exper  tenure  nonwhite  numdep  smsa  northcen  south  west  \\\n",
      "0  3.10    11      2       0         0       2     1         0      0     1   \n",
      "1  3.24    12     22       2         0       3     1         0      0     1   \n",
      "2  3.00    11      2       0         0       2     0         0      0     1   \n",
      "3  6.00     8     44      28         0       0     1         0      0     1   \n",
      "4  5.30    12      7       2         0       1     0         0      0     1   \n",
      "\n",
      "   ...     lwage  expersq  tenursq  female_0  female_1  married_0  married_1  \\\n",
      "0  ...  1.131402        4        0         0         1          1          0   \n",
      "1  ...  1.175573      484        4         0         1          0          1   \n",
      "2  ...  1.098612        4        0         1         0          1          0   \n",
      "3  ...  1.791760     1936      784         1         0          0          1   \n",
      "4  ...  1.667707       49        4         1         0          0          1   \n",
      "\n",
      "   marrfem  marrmale  singfem  \n",
      "0        0         0        1  \n",
      "1        1         0        0  \n",
      "2        0         0        0  \n",
      "3        0         1        0  \n",
      "4        0         1        0  \n",
      "\n",
      "[5 rows x 29 columns]\n"
     ]
    }
   ],
   "source": [
    "data_in[\"marrfem\"] = data_in[\"female_1\"]*data_in[\"married_1\"]\n",
    "data_in[\"marrmale\"] = data_in[\"female_0\"]*data_in[\"married_1\"]\n",
    "data_in[\"singfem\"] = data_in[\"female_1\"]*data_in[\"married_0\"]\n",
    "print(data_in.head())"
   ]
  },
  {
   "cell_type": "markdown",
   "metadata": {},
   "source": [
    "Estimate the model:"
   ]
  },
  {
   "cell_type": "code",
   "execution_count": 18,
   "metadata": {},
   "outputs": [
    {
     "name": "stdout",
     "output_type": "stream",
     "text": [
      "                            OLS Regression Results                            \n",
      "==============================================================================\n",
      "Dep. Variable:                  lwage   R-squared:                       0.461\n",
      "Model:                            OLS   Adj. R-squared:                  0.453\n",
      "Method:                 Least Squares   F-statistic:                     55.25\n",
      "Date:                Tue, 20 Oct 2020   Prob (F-statistic):           1.28e-64\n",
      "Time:                        11:39:47   Log-Likelihood:                -250.96\n",
      "No. Observations:                 526   AIC:                             519.9\n",
      "Df Residuals:                     517   BIC:                             558.3\n",
      "Df Model:                           8                                         \n",
      "Covariance Type:            nonrobust                                         \n",
      "==============================================================================\n",
      "                 coef    std err          t      P>|t|      [0.025      0.975]\n",
      "------------------------------------------------------------------------------\n",
      "Intercept      0.3214      0.100      3.213      0.001       0.125       0.518\n",
      "marrmale       0.2127      0.055      3.842      0.000       0.104       0.321\n",
      "marrfem       -0.1983      0.058     -3.428      0.001      -0.312      -0.085\n",
      "singfem       -0.1104      0.056     -1.980      0.048      -0.220      -0.001\n",
      "educ           0.0789      0.007     11.787      0.000       0.066       0.092\n",
      "exper          0.0268      0.005      5.112      0.000       0.017       0.037\n",
      "expersq       -0.0005      0.000     -4.847      0.000      -0.001      -0.000\n",
      "tenure         0.0291      0.007      4.302      0.000       0.016       0.042\n",
      "tenursq       -0.0005      0.000     -2.306      0.022      -0.001   -7.89e-05\n",
      "==============================================================================\n",
      "Omnibus:                       15.526   Durbin-Watson:                   1.785\n",
      "Prob(Omnibus):                  0.000   Jarque-Bera (JB):               32.182\n",
      "Skew:                          -0.062   Prob(JB):                     1.03e-07\n",
      "Kurtosis:                       4.205   Cond. No.                     4.86e+03\n",
      "==============================================================================\n",
      "\n",
      "Notes:\n",
      "[1] Standard Errors assume that the covariance matrix of the errors is correctly specified.\n",
      "[2] The condition number is large, 4.86e+03. This might indicate that there are\n",
      "strong multicollinearity or other numerical problems.\n"
     ]
    }
   ],
   "source": [
    "model_eq = smf.ols(formula = 'lwage ~ 1 + marrmale + marrfem + singfem + educ + exper + expersq + tenure + tenursq', data = data_in)\n",
    "model_est = model_eq.fit()\n",
    "print(model_est.summary())"
   ]
  },
  {
   "cell_type": "markdown",
   "metadata": {},
   "source": [
    "We can use this equation to obtain the estimated difference between any two groups. Because the overall intercept is common to all groups, we can ignore that in finding differences. \n",
    "\n",
    "The estimated proportionate difference between single and married women is $\\delta_2 - \\delta_1$: "
   ]
  },
  {
   "cell_type": "code",
   "execution_count": 19,
   "metadata": {},
   "outputs": [
    {
     "data": {
      "text/plain": [
       "0.08791738794267887"
      ]
     },
     "execution_count": 19,
     "metadata": {},
     "output_type": "execute_result"
    }
   ],
   "source": [
    "model_est.params[\"singfem\"] - model_est.params[\"marrfem\"]"
   ]
  },
  {
   "cell_type": "markdown",
   "metadata": {},
   "source": [
    "It means that single women earn about 8.8% more than married women."
   ]
  },
  {
   "cell_type": "markdown",
   "metadata": {},
   "source": [
    "Unfortunately, we cannot the estimation results for testing whether the estimated difference between single and married women is statistically significant. Knowing the standard errors on marrfem and\n",
    "singfem is not enough to carry out the test. The easiest thing to do is to choose one of these groups to be the base group and to reestimate the equation."
   ]
  },
  {
   "cell_type": "code",
   "execution_count": 20,
   "metadata": {},
   "outputs": [
    {
     "name": "stdout",
     "output_type": "stream",
     "text": [
      "                            OLS Regression Results                            \n",
      "==============================================================================\n",
      "Dep. Variable:                  lwage   R-squared:                       0.461\n",
      "Model:                            OLS   Adj. R-squared:                  0.453\n",
      "Method:                 Least Squares   F-statistic:                     55.25\n",
      "Date:                Tue, 20 Oct 2020   Prob (F-statistic):           1.28e-64\n",
      "Time:                        11:47:45   Log-Likelihood:                -250.96\n",
      "No. Observations:                 526   AIC:                             519.9\n",
      "Df Residuals:                     517   BIC:                             558.3\n",
      "Df Model:                           8                                         \n",
      "Covariance Type:            nonrobust                                         \n",
      "==============================================================================\n",
      "                 coef    std err          t      P>|t|      [0.025      0.975]\n",
      "------------------------------------------------------------------------------\n",
      "Intercept      0.1231      0.106      1.164      0.245      -0.085       0.331\n",
      "marrmale       0.4109      0.046      8.978      0.000       0.321       0.501\n",
      "singfem        0.0879      0.052      1.679      0.094      -0.015       0.191\n",
      "singmale       0.1983      0.058      3.428      0.001       0.085       0.312\n",
      "educ           0.0789      0.007     11.787      0.000       0.066       0.092\n",
      "exper          0.0268      0.005      5.112      0.000       0.017       0.037\n",
      "expersq       -0.0005      0.000     -4.847      0.000      -0.001      -0.000\n",
      "tenure         0.0291      0.007      4.302      0.000       0.016       0.042\n",
      "tenursq       -0.0005      0.000     -2.306      0.022      -0.001   -7.89e-05\n",
      "==============================================================================\n",
      "Omnibus:                       15.526   Durbin-Watson:                   1.785\n",
      "Prob(Omnibus):                  0.000   Jarque-Bera (JB):               32.182\n",
      "Skew:                          -0.062   Prob(JB):                     1.03e-07\n",
      "Kurtosis:                       4.205   Cond. No.                     5.17e+03\n",
      "==============================================================================\n",
      "\n",
      "Notes:\n",
      "[1] Standard Errors assume that the covariance matrix of the errors is correctly specified.\n",
      "[2] The condition number is large, 5.17e+03. This might indicate that there are\n",
      "strong multicollinearity or other numerical problems.\n"
     ]
    }
   ],
   "source": [
    "data_in[\"singmale\"] = data_in[\"female_0\"]*data_in[\"married_0\"]\n",
    "model_eq = smf.ols(formula = 'lwage ~ 1 + marrmale + singfem + singmale + educ + exper + expersq + tenure + tenursq', data = data_in)\n",
    "model_est = model_eq.fit()\n",
    "print(model_est.summary())"
   ]
  },
  {
   "cell_type": "markdown",
   "metadata": {},
   "source": [
    "***\n",
    "## Interactions Involving Dummy Variables"
   ]
  },
  {
   "cell_type": "markdown",
   "metadata": {},
   "source": [
    "The section above already demonstrates how to create interactive dummies manually. Sometimes it is helpful to create those variables automatically *within* the model specification. For this purpose, we use the function for generating categorical variables in the ```statsmodels``` module.\n",
    "\n",
    "Consider the model in the previous section:\n",
    "$$\\log(wage) = \\beta_0 + \\delta_0 female + \\delta_1 married + \\delta_2 female \\cdot married + \\beta_1 educ + \\beta_2 exper + \\beta_3 exper^2 + \\beta_4 tenure + \\beta_5 tenure^2 + u.$$\n",
    "\n",
    "We can use the ```C()``` operator to explicitly indicate that $female$ and $married$ should be treated as categorica variables."
   ]
  },
  {
   "cell_type": "code",
   "execution_count": 21,
   "metadata": {},
   "outputs": [
    {
     "name": "stdout",
     "output_type": "stream",
     "text": [
      "                            OLS Regression Results                            \n",
      "==============================================================================\n",
      "Dep. Variable:                  lwage   R-squared:                       0.461\n",
      "Model:                            OLS   Adj. R-squared:                  0.453\n",
      "Method:                 Least Squares   F-statistic:                     55.25\n",
      "Date:                Tue, 20 Oct 2020   Prob (F-statistic):           1.28e-64\n",
      "Time:                        11:51:51   Log-Likelihood:                -250.96\n",
      "No. Observations:                 526   AIC:                             519.9\n",
      "Df Residuals:                     517   BIC:                             558.3\n",
      "Df Model:                           8                                         \n",
      "Covariance Type:            nonrobust                                         \n",
      "==================================================================================================\n",
      "                                     coef    std err          t      P>|t|      [0.025      0.975]\n",
      "--------------------------------------------------------------------------------------------------\n",
      "Intercept                          0.3214      0.100      3.213      0.001       0.125       0.518\n",
      "C(female)[T.1]                    -0.1104      0.056     -1.980      0.048      -0.220      -0.001\n",
      "C(married)[T.1]                    0.2127      0.055      3.842      0.000       0.104       0.321\n",
      "C(female)[T.1]:C(married)[T.1]    -0.3006      0.072     -4.188      0.000      -0.442      -0.160\n",
      "educ                               0.0789      0.007     11.787      0.000       0.066       0.092\n",
      "exper                              0.0268      0.005      5.112      0.000       0.017       0.037\n",
      "expersq                           -0.0005      0.000     -4.847      0.000      -0.001      -0.000\n",
      "tenure                             0.0291      0.007      4.302      0.000       0.016       0.042\n",
      "tenursq                           -0.0005      0.000     -2.306      0.022      -0.001   -7.89e-05\n",
      "==============================================================================\n",
      "Omnibus:                       15.526   Durbin-Watson:                   1.785\n",
      "Prob(Omnibus):                  0.000   Jarque-Bera (JB):               32.182\n",
      "Skew:                          -0.062   Prob(JB):                     1.03e-07\n",
      "Kurtosis:                       4.205   Cond. No.                     5.06e+03\n",
      "==============================================================================\n",
      "\n",
      "Notes:\n",
      "[1] Standard Errors assume that the covariance matrix of the errors is correctly specified.\n",
      "[2] The condition number is large, 5.06e+03. This might indicate that there are\n",
      "strong multicollinearity or other numerical problems.\n"
     ]
    }
   ],
   "source": [
    "model_eq = smf.ols(formula = 'lwage ~ 1 + C(female)*C(married) + educ + exper + expersq + tenure + tenursq', data = data)\n",
    "model_est = model_eq.fit()\n",
    "print(model_est.summary())"
   ]
  },
  {
   "cell_type": "markdown",
   "metadata": {},
   "source": [
    "#### Allowing for Different Slopes\n",
    "\n",
    "We can use the same approach for estimating different slopes.\n",
    "\n",
    "Consider the following model:\n",
    "$$\\log(wage) = \\beta_0 + \\delta_0 female + \\beta_1 educ + \\delta_2 female \\cdot educ + \\beta_2 exper + \\beta_3 exper^2 + \\beta_4 tenure + \\beta_5 tenure^2 + u.$$"
   ]
  },
  {
   "cell_type": "code",
   "execution_count": null,
   "metadata": {},
   "outputs": [],
   "source": [
    "model_eq = smf.ols(formula = 'lwage ~ 1 + C(female)*educ + exper + expersq + tenure + tenursq', data = data)\n",
    "model_est = model_eq.fit()\n",
    "print(model_est.summary())"
   ]
  },
  {
   "cell_type": "markdown",
   "metadata": {},
   "source": [
    "***\n",
    "## References\n",
    "- REM 750 lecture on:\\\n",
    "    Multiple linear regression model\n",
    "\n",
    "- Jeffrey M. Wooldridge (2012) \"Introductory Econometrics: A Modern Approach, 5e\" Chapter 7.\n",
    "\n",
    "- LinkedIn Training on:\\\n",
    "    [Python Data Analysis]()\\\n",
    "    [Pyton Statistics Essential Training]()\n",
    "    \n",
    "- Seabold, Skipper, and Josef Perktold (2010). \"[statsmodels: Econometric and statistical modeling with python](https://www.statsmodels.org/stable/examples/notebooks/generated/ols.html).\" Proceedings of the 9th Python in Science Conference."
   ]
  }
 ],
 "metadata": {
  "kernelspec": {
   "display_name": "Python 3",
   "language": "python",
   "name": "python3"
  },
  "language_info": {
   "codemirror_mode": {
    "name": "ipython",
    "version": 3
   },
   "file_extension": ".py",
   "mimetype": "text/x-python",
   "name": "python",
   "nbconvert_exporter": "python",
   "pygments_lexer": "ipython3",
   "version": "3.8.5"
  }
 },
 "nbformat": 4,
 "nbformat_minor": 4
}
