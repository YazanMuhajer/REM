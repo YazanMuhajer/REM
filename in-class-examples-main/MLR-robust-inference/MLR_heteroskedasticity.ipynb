{
 "cells": [
  {
   "cell_type": "markdown",
   "metadata": {},
   "source": [
    "## Introduction\n",
    "\n",
    "This in-class example demonstrates how to calculate heteroskeasticity-robust standard error and conduct tests on the existence of heteroskedasticity.\n",
    "\n",
    "What you need to know:  \n",
    "- Statsmodels and pandas modules in Python\n",
    "- Theoretical concepts on linear regression model\n",
    "- Theoretical concepts on heteroskedasticity\n",
    "\n",
    "The list of [references](#References) for detailed concepts and techniques used in this exerise."
   ]
  },
  {
   "cell_type": "markdown",
   "metadata": {},
   "source": [
    "***\n",
    "\n",
    "## Data Description\n",
    "\n",
    "The data set is contained in a comma-separated value (csv) file named ```hprice1.csv``` with column headers. \n",
    "\n",
    "Description of the data is as follow:\n",
    "```\n",
    "-------------------------------------------------------------------------------\n",
    "              storage  display     value\n",
    "variable name   type   format      label      variable label\n",
    "-------------------------------------------------------------------------------\n",
    "price           float  %9.0g                  house price, $1000s\n",
    "assess          float  %9.0g                  assessed value, $1000s\n",
    "bdrms           byte   %9.0g                  number of bdrms\n",
    "lotsize         float  %9.0g                  size of lot in square feet\n",
    "sqrft           int    %9.0g                  size of house in square feet\n",
    "colonial        byte   %9.0g                  =1 if home is colonial style\n",
    "lprice          float  %9.0g                  log(price)\n",
    "lassess         float  %9.0g                  log(assess\n",
    "llotsize        float  %9.0g                  log(lotsize)\n",
    "lsqrft          float  %9.0g                  log(sqrft)\n",
    "-------------------------------------------------------------------------------\n",
    " ```"
   ]
  },
  {
   "cell_type": "markdown",
   "metadata": {},
   "source": [
    "***\n",
    "## Load the required modules"
   ]
  },
  {
   "cell_type": "code",
   "execution_count": null,
   "metadata": {},
   "outputs": [],
   "source": [
    "import numpy as np\n",
    "import pandas as pd\n",
    "import statsmodels\n",
    "import statsmodels.api as sm\n",
    "import statsmodels.formula.api as smf\n",
    "import statsmodels.stats.diagnostic as smd\n",
    "import matplotlib.pyplot"
   ]
  },
  {
   "cell_type": "markdown",
   "metadata": {},
   "source": [
    "***\n",
    "## Import the data set\n",
    "\n",
    "#### Load the data set into Python"
   ]
  },
  {
   "cell_type": "code",
   "execution_count": null,
   "metadata": {},
   "outputs": [],
   "source": []
  },
  {
   "cell_type": "markdown",
   "metadata": {},
   "source": [
    "***\n",
    "## Estimate a House Price Model"
   ]
  },
  {
   "cell_type": "markdown",
   "metadata": {},
   "source": [
    "Consider a house price model in terms of the levels:\n",
    "$$price = \\beta_0 + \\beta_1 lotsize + \\beta_2 sqrft + \\beta_3 bdrms + u$$"
   ]
  },
  {
   "cell_type": "markdown",
   "metadata": {},
   "source": [
    "### Model under the assumption of *homoskedasticity*\n",
    "\n",
    "#### Estimate the model"
   ]
  },
  {
   "cell_type": "code",
   "execution_count": null,
   "metadata": {},
   "outputs": [],
   "source": []
  },
  {
   "cell_type": "markdown",
   "metadata": {},
   "source": [
    "#### Get the estimation results"
   ]
  },
  {
   "cell_type": "code",
   "execution_count": null,
   "metadata": {},
   "outputs": [],
   "source": []
  },
  {
   "cell_type": "markdown",
   "metadata": {},
   "source": [
    "***\n",
    "### Test for heteroskedasticity"
   ]
  },
  {
   "cell_type": "markdown",
   "metadata": {},
   "source": [
    "There are a few useful Python [methods](https://www.statsmodels.org/stable/generated/statsmodels.regression.linear_model.RegressionResults.html) for linear regression results in the Statsmodels module that we use here:\n",
    "- ```resid``` for the residuals of the estimated model\n",
    "- ```model.exog``` for the data of the exogenous regressors"
   ]
  },
  {
   "cell_type": "markdown",
   "metadata": {},
   "source": [
    "Label the test statistics. Later we will use the ```zip()``` function to return combine the label with the test statistics."
   ]
  },
  {
   "cell_type": "code",
   "execution_count": null,
   "metadata": {},
   "outputs": [],
   "source": [
    "labels = ['LM Statistic', 'LM-Test p-value', 'F-Statistic', 'F-Test p-value']"
   ]
  },
  {
   "cell_type": "markdown",
   "metadata": {},
   "source": [
    "#### Breusch-Pagan test\n",
    "\n",
    "Estimate the equation\n",
    "$$\\hat{u}^2 = \\delta_0 + \\delta_1 x_1 + \\ldots + \\delta_k x_k + error$$\n",
    "\n",
    "Null hypothesis: \n",
    "$$H_0: \\delta_1 = \\delta_2 = \\ldots = \\delta_k = 0$$"
   ]
  },
  {
   "cell_type": "code",
   "execution_count": null,
   "metadata": {},
   "outputs": [],
   "source": []
  },
  {
   "cell_type": "markdown",
   "metadata": {},
   "source": [
    "#### White test\n",
    "\n",
    "For a model contains $k=3$ independent variables:\n",
    "$$\\hat{u}^2 = \\delta_0 + \\delta_1 x_1 + \\delta_2 x_2 + \\delta_3 x_3 + \\delta_4 x_1^2 + \\delta_5 x_2^2 + \\delta_6 x_3^2 + \\delta_7 x_1 x_2 + \\delta_8 x_1 x_3 + \\delta_9 x_2 x_3 + error$$\n",
    "\n",
    "Null hypothesis:\n",
    "$$H_0: \\delta_1 = \\delta_2 = \\ldots = \\delta_9 = 0$$"
   ]
  },
  {
   "cell_type": "code",
   "execution_count": null,
   "metadata": {},
   "outputs": [],
   "source": []
  },
  {
   "cell_type": "markdown",
   "metadata": {},
   "source": [
    "#### White test (specific form)\n",
    "\n",
    "Use $\\hat{y}_i^2$ to get a particular function of all the squares and cross products\n",
    "$$\\hat{u}^2 = \\delta_0 + \\delta_1 \\hat{y} + \\delta_2 \\hat{y}^2 + error$$\n",
    "\n",
    "Null hypothesis: $$H_0: \\delta_1 = 0, \\delta_2 = 0$$"
   ]
  },
  {
   "cell_type": "markdown",
   "metadata": {},
   "source": [
    "Create the set of regressors"
   ]
  },
  {
   "cell_type": "code",
   "execution_count": null,
   "metadata": {},
   "outputs": [],
   "source": []
  },
  {
   "cell_type": "markdown",
   "metadata": {},
   "source": [
    "Conduct the test:"
   ]
  },
  {
   "cell_type": "code",
   "execution_count": null,
   "metadata": {},
   "outputs": [],
   "source": []
  },
  {
   "cell_type": "markdown",
   "metadata": {},
   "source": [
    "***\n",
    "### Create a scatter plot to visualize the heteroskedastic variance"
   ]
  },
  {
   "cell_type": "code",
   "execution_count": null,
   "metadata": {},
   "outputs": [],
   "source": []
  },
  {
   "cell_type": "markdown",
   "metadata": {},
   "source": [
    "***\n",
    "## Model under the assumption of *heteroskedasticity*\n",
    "\n",
    "#### Estimate the model\n",
    "For robust standard error in MacKinnon and White (1985), specify the covariance type using ```cov_type='HC1'``` in OLS class method ```fit()```."
   ]
  },
  {
   "cell_type": "code",
   "execution_count": null,
   "metadata": {},
   "outputs": [],
   "source": []
  },
  {
   "cell_type": "markdown",
   "metadata": {},
   "source": [
    "#### Get the estimation results"
   ]
  },
  {
   "cell_type": "code",
   "execution_count": null,
   "metadata": {},
   "outputs": [],
   "source": []
  },
  {
   "cell_type": "markdown",
   "metadata": {},
   "source": [
    "***\n",
    "## References\n",
    "- Jeffrey M. Wooldridge (2012). \"Introductory Econometrics: A Modern Approach, 5e\" Chapter 8.\n",
    "    \n",
    "- Seabold, Skipper, and Josef Perktold (2010). \"[statsmodels: Econometric and statistical modeling with python](https://www.statsmodels.org/stable/examples/notebooks/generated/ols.html).\" Proceedings of the 9th Python in Science Conference."
   ]
  }
 ],
 "metadata": {
  "kernelspec": {
   "display_name": "Python 3",
   "language": "python",
   "name": "python3"
  },
  "language_info": {
   "codemirror_mode": {
    "name": "ipython",
    "version": 3
   },
   "file_extension": ".py",
   "mimetype": "text/x-python",
   "name": "python",
   "nbconvert_exporter": "python",
   "pygments_lexer": "ipython3",
   "version": "3.8.5"
  }
 },
 "nbformat": 4,
 "nbformat_minor": 4
}
